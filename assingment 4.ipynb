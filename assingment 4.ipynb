{
 "cells": [
  {
   "cell_type": "markdown",
   "id": "99118059",
   "metadata": {},
   "source": [
    "#### 1.Given a list of numbers, write a python program that return a new list which has all duplicate elements removed annd is sorted in an increasing order."
   ]
  },
  {
   "cell_type": "code",
   "execution_count": 1,
   "id": "3677c370",
   "metadata": {
    "scrolled": true
   },
   "outputs": [
    {
     "data": {
      "text/plain": [
       "[1, 2, 3, 4, 7, 8, 9]"
      ]
     },
     "execution_count": 1,
     "metadata": {},
     "output_type": "execute_result"
    }
   ],
   "source": [
    "a=[2,1,3,4,2,3,3,2,7,9,8,7]\n",
    "list(set(a))"
   ]
  },
  {
   "cell_type": "markdown",
   "id": "ed58a77c",
   "metadata": {},
   "source": [
    "#### 2. Write a python program where you will iterate over both keys and values in dicitionaries?"
   ]
  },
  {
   "cell_type": "code",
   "execution_count": 3,
   "id": "1d4d4423",
   "metadata": {},
   "outputs": [
    {
     "name": "stdout",
     "output_type": "stream",
     "text": [
      "1 keerthi\n",
      "2 manoj\n",
      "3 siddu\n",
      "4 teja\n",
      "5 ameem\n"
     ]
    }
   ],
   "source": [
    "d={1:\"keerthi\",2:\"manoj\",3:\"siddu\",4:\"teja\",5:\"ameem\"}\n",
    "for keys,values in d.items():\n",
    "    print(keys,values)"
   ]
  },
  {
   "cell_type": "markdown",
   "id": "5151a20d",
   "metadata": {},
   "source": [
    "#### 3.Write a python program that takes a dictionary of student names and return a list of student names in alphabeticalorder?\n",
    "- ex input{\"student 1\":\"tarun\",\"student2\":\"manoj\",\"student3\":\"Gephi\"}\n",
    "- output[\"Gephi\",\"manoj\",\"tarun\"]"
   ]
  },
  {
   "cell_type": "code",
   "execution_count": 5,
   "id": "96d1f777",
   "metadata": {},
   "outputs": [
    {
     "name": "stdout",
     "output_type": "stream",
     "text": [
      "['Gephi', 'manoj', 'tarun']\n"
     ]
    }
   ],
   "source": [
    "d={\"student 1\":\"tarun\",\"student2\":\"manoj\",\"student3\":\"Gephi\"}\n",
    "lis=[]\n",
    "for keys,values in d.items():\n",
    "    lis.append(values)\n",
    "    lis.sort()\n",
    "print(lis)\n"
   ]
  },
  {
   "cell_type": "markdown",
   "id": "d0d92558",
   "metadata": {},
   "source": [
    "#### 4. Write a python program to return a dictionary a new list of Booleans, from a given number.Iterating through the number one digit at a time,append true if the digit is 1 and False if it is 0.\n",
    "- ex_input:\"01001\n",
    "-   out put:[\"False\",\"True\",\"False\",\"True\"]\n"
   ]
  },
  {
   "cell_type": "code",
   "execution_count": 6,
   "id": "7ccb0eba",
   "metadata": {},
   "outputs": [
    {
     "name": "stdout",
     "output_type": "stream",
     "text": [
      "['False', 'True', 'False', 'False', 'True']\n"
     ]
    }
   ],
   "source": [
    "x=\"01001\"\n",
    "y=[]\n",
    "for i in x:\n",
    "    if i==\"1\":\n",
    "        y.append(\"True\")\n",
    "    elif i==\"0\":\n",
    "        y.append(\"False\")\n",
    "    \n",
    "print(y)\n"
   ]
  },
  {
   "cell_type": "markdown",
   "id": "6bf98640",
   "metadata": {},
   "source": [
    "#### 5. Write a python program to write where you will return a dictionary where the keys will be the character and the values will be the occurrence of the character in the string and it should for any string inputs(dynamic).\n",
    "- Ex: \n",
    "- input : \"my name is ame\"\n",
    "- output:(\"m\":3,\"y\":1,\"n\":1,\"a\":2,\"e\":2,\"i\":1,\"s\":1)"
   ]
  },
  {
   "cell_type": "code",
   "execution_count": 8,
   "id": "f0384daf",
   "metadata": {},
   "outputs": [
    {
     "name": "stdout",
     "output_type": "stream",
     "text": [
      "enter a stringmy name is ame\n",
      "{'m': 3, 'y': 1, 'n': 1, 'a': 2, 'e': 2, 'i': 1, 's': 1}\n"
     ]
    }
   ],
   "source": [
    "a=input(\"enter a string\")\n",
    "b={}\n",
    "for letters in a:\n",
    "    if letters!=\" \":\n",
    "        c=a.count(letters)\n",
    "        b.update({letters:c})\n",
    "print(b)"
   ]
  },
  {
   "cell_type": "markdown",
   "id": "539fe0ad",
   "metadata": {},
   "source": [
    "#### 6.Given a dictionary containing the names and ages ofa group of people return the name of the oldest person\n",
    "- ex:  input{\"tmma\":41,\"ackes\":45,\"myna\":15,\"benthon\":29}"
   ]
  },
  {
   "cell_type": "code",
   "execution_count": 5,
   "id": "8cb92844",
   "metadata": {},
   "outputs": [
    {
     "name": "stdout",
     "output_type": "stream",
     "text": [
      "Name : keerthi\n",
      "Age : 21\n",
      "Type y to continue or n to stop : y\n",
      "Name : siddu\n",
      "Age : 108\n",
      "Type y to continue or n to stop : y\n",
      "Name : ameem\n",
      "Age : 5\n",
      "Type y to continue or n to stop : y\n",
      "Name : teja\n",
      "Age : 34\n",
      "Type y to continue or n to stop : y\n",
      "Name : manoj\n",
      "Age : 45\n",
      "Type y to continue or n to stop : n\n",
      "{'keerthi': 21, 'siddu': 108, 'ameem': 5, 'teja': 34, 'manoj': 45}\n",
      "\n",
      "The oldest person is --> siddu\n"
     ]
    }
   ],
   "source": [
    "x=0\n",
    "dic={}\n",
    "while True:\n",
    "    name=input(\"Name : \")\n",
    "    age=int(input(\"Age : \"))\n",
    "    dic.update({name:age})\n",
    "    ask=input(\"Type y to continue or n to stop : \")\n",
    "    if ask==\"N\" or ask==\"n\":\n",
    "        break\n",
    "old=max(dic.values())\n",
    "names=list(dic.keys())\n",
    "ages=list(dic.values())\n",
    "print(dic)\n",
    "print(\"\\nThe oldest person is --> {}\".format(names[ages.index(old)]))"
   ]
  },
  {
   "cell_type": "markdown",
   "id": "f25fb40b",
   "metadata": {},
   "source": [
    "#### 7. Write a python program to create a rock,paper,Scissor game,use two inputs for two players"
   ]
  },
  {
   "cell_type": "code",
   "execution_count": 3,
   "id": "2c2171f1",
   "metadata": {},
   "outputs": [
    {
     "name": "stdout",
     "output_type": "stream",
     "text": [
      "Type: R - Rock\n",
      "      P - Paper\n",
      "      S - Scissor\n",
      "Person 1 name : paper\n",
      "Person 2 name : rock\n",
      "P-1 : R\n",
      "P-2 : P\n",
      "\n",
      "rock Wins\n",
      "Type Y to continue or N to stop : n\n",
      "Game Over\n"
     ]
    }
   ],
   "source": [
    "print(\"Type: R - Rock\\n      P - Paper\\n      S - Scissor\")\n",
    "n_1=input(\"Person 1 name : \")\n",
    "n_2=input(\"Person 2 name : \")\n",
    "while True:\n",
    "    person_1=input(\"P-1 : \")\n",
    "    person_2=input(\"P-2 : \")\n",
    "    if person_1==\"R\" and person_2==\"S\":\n",
    "        print(\"\\n{} Wins\".format(n_1))\n",
    "        ask=input(\"Type Y to continue or N to stop : \")\n",
    "        if ask==\"N\" or ask==\"n\":\n",
    "            print(\"Game Over\")\n",
    "            break\n",
    "    elif person_1==\"S\" and person_2==\"P\":\n",
    "        print(\"\\n{} Wins\".format(n_1))\n",
    "        ask=input(\"Type Y to continue or N to stop : \")\n",
    "        if ask==\"N\" or ask==\"n\":\n",
    "            print(\"Game Over\")\n",
    "            break\n",
    "    elif person_1==\"P\" and person_2==\"R\":\n",
    "        print(\"\\n{} Wins\".format(n_1))\n",
    "        ask=input(\"Type Y to continue or N to stop : \")\n",
    "        if ask==\"N\" or ask==\"n\":\n",
    "            print(\"Game Over\")\n",
    "            break\n",
    "    elif person_2==\"R\" and person_1==\"S\":\n",
    "        print(\"\\n{} Wins\".format(n_2))\n",
    "        ask=input(\"Type Y to continue or N to stop : \")\n",
    "        if ask==\"N\" or ask==\"n\":\n",
    "            print(\"Game Over\")\n",
    "            break\n",
    "    elif person_2==\"S\" and person_1==\"P\":\n",
    "        print(\"\\n{} Wins\".format(n_2))\n",
    "        ask=input(\"Type Y to continue or N to stop : \")\n",
    "        if ask==\"N\" or ask==\"n\":\n",
    "            print(\"Game Over\")\n",
    "            break\n",
    "    elif person_2==\"P\" and person_1==\"R\":\n",
    "        print(\"\\n{} Wins\".format(n_2))\n",
    "        ask=input(\"Type Y to continue or N to stop : \")\n",
    "        if ask==\"N\" or ask==\"n\":\n",
    "            print(\"Game Over\")\n",
    "            break                                                                         \n",
    "    elif person_2==\"R\" and person_1==\"R\":\n",
    "        print(\"\\nBoth {} and {} Wins\".format(n_1,n_2))\n",
    "        ask=input(\"Type Y to continue or N to stop : \")\n",
    "        if ask==\"N\" or ask==\"n\":\n",
    "            print(\"Game Over\")\n",
    "            break\n",
    "    elif person_2==\"S\" and person_1==\"S\":\n",
    "        print(\"\\nBoth {} and {} Wins\".format(n_1,n_2))\n",
    "        ask=input(\"Type Y to continue or N to stop : \")\n",
    "        if ask==\"N\" or ask==\"n\":\n",
    "            print(\"Game Over\")\n",
    "            break\n",
    "    elif person_2==\"P\"and person_1==\"P\":\n",
    "        print(\"\\nBoth {} and {} Wins\".format(n_1,n_2))\n",
    "        ask=input(\"Type Y to continue or N to stop : \")\n",
    "        if ask==\"N\" or ask==\"n\":\n",
    "            print(\"Game Over\")\n",
    "            break\n",
    "\n",
    "\n",
    "    "
   ]
  },
  {
   "cell_type": "markdown",
   "id": "556dc1b4",
   "metadata": {},
   "source": [
    "#### 8. Create a program that returns a list of items that you can afford in the store with the money you have in your wallet. Create a dictionary with items as key and price as values\n"
   ]
  },
  {
   "cell_type": "code",
   "execution_count": 4,
   "id": "ee048ee0",
   "metadata": {},
   "outputs": [
    {
     "name": "stdout",
     "output_type": "stream",
     "text": [
      "Please enter your wallet balance : 100\n",
      "['Water Bottle', 'Chips', 'Coke', 'Fruits', 'Pens']\n"
     ]
    }
   ],
   "source": [
    "store={\"Water Bottle\":20,\"Chips\":10,\"Coke\":80,\"Fruits\":50,\"i-phone\":69999,\"Cake\":400,\"Pens\":58,\"T.V\":240000,\"Fridge\":70000}\n",
    "items=list(store.keys())\n",
    "prices=list(store.values())\n",
    "pack=list(zip(items,prices))\n",
    "wallet=int(input(\"Please enter your wallet balance : \"))\n",
    "cart=[]\n",
    "new=[]\n",
    "for tags in prices:                 # Throwing all the price tags into new variable which are in budget range of wallet\n",
    "    if tags<=wallet:\n",
    "        cart.append(tags)\n",
    "for i,j in pack:\n",
    "    if j in cart:\n",
    "        new.append(i)\n",
    "print(new)\n"
   ]
  },
  {
   "cell_type": "code",
   "execution_count": 5,
   "id": "a71d8d2d",
   "metadata": {},
   "outputs": [
    {
     "data": {
      "text/plain": [
       "[(1, 3), (2, 4)]"
      ]
     },
     "execution_count": 5,
     "metadata": {},
     "output_type": "execute_result"
    }
   ],
   "source": [
    "a=[1,2]\n",
    "b=[3,4]\n",
    "c=list(zip(a,b))\n",
    "c"
   ]
  },
  {
   "cell_type": "markdown",
   "id": "d91fef15",
   "metadata": {},
   "source": [
    "#### 9. Write a Python program to create a union of sets"
   ]
  },
  {
   "cell_type": "code",
   "execution_count": 6,
   "id": "1ffa715f",
   "metadata": {},
   "outputs": [
    {
     "name": "stdout",
     "output_type": "stream",
     "text": [
      "Names-1 : Apple,Mango,Guva,Grapes\n",
      "Names-2 : tomato,onion,beetroot,cucumber\n"
     ]
    },
    {
     "data": {
      "text/plain": [
       "{'Apple', 'Grapes', 'Guva', 'Mango', 'beetroot', 'cucumber', 'onion', 'tomato'}"
      ]
     },
     "execution_count": 6,
     "metadata": {},
     "output_type": "execute_result"
    }
   ],
   "source": [
    "nms1=input(\"Names-1 : \")\n",
    "nms2=input(\"Names-2 : \")\n",
    "names1=set(nms1.split(\",\"))\n",
    "names2=set(nms2.split(\",\")) \n",
    "names1.union(names2)"
   ]
  },
  {
   "cell_type": "markdown",
   "id": "6948c0b4",
   "metadata": {},
   "source": [
    "#### 10. Write a Python program to check if a given value is present in a set or not\n"
   ]
  },
  {
   "cell_type": "code",
   "execution_count": 7,
   "id": "f6027df6",
   "metadata": {},
   "outputs": [
    {
     "name": "stdout",
     "output_type": "stream",
     "text": [
      "Provide Numbers here : 345\n",
      "Press S to stop :  .\n",
      "Provide Numbers here : 456\n",
      "Press S to stop :  .\n",
      "Provide Numbers here : 765\n",
      "Press S to stop :  .\n",
      "Provide Numbers here : 232\n",
      "Press S to stop :  .\n",
      "Provide Numbers here : 456\n",
      "Press S to stop :  s\n",
      "Now provide the numbers to check whether they are present in above created SET..\n",
      "Provide Numbers here : 456\n",
      "Press S to stop :  s\n",
      "\n",
      "Number : 456 is in the SET {456, 345, 765, 232}\n"
     ]
    }
   ],
   "source": [
    "st=set()\n",
    "check=[]\n",
    "while True:\n",
    "    enter=int(input(\"Provide Numbers here : \"))                  # Creating SET you want\n",
    "    st.add(enter)\n",
    "    stop=input(\"Press S to stop :  \")\n",
    "    if stop==\"S\" or stop==\"s\":\n",
    "        break\n",
    "        \n",
    "print(\"Now provide the numbers to check whether they are present in above created SET..\")\n",
    "\n",
    "while True:                                                       # Taking numbers to check wether it present inside SET\n",
    "    enter=int(input(\"Provide Numbers here : \"))\n",
    "    check.append(enter)\n",
    "    stop=input(\"Press S to stop :  \")\n",
    "    if stop==\"S\" or stop==\"s\":\n",
    "        break\n",
    "        \n",
    "for num in check:                                                # Checking for the numbers in set.\n",
    "    if num in st:\n",
    "        print(\"\\nNumber : {} is in the SET {}\".format(num,st))\n",
    "    else:\n",
    "        print(\"\\nNumber : {} is not in the SET {}\".format(num,st))"
   ]
  },
  {
   "cell_type": "markdown",
   "id": "6f4c2fca",
   "metadata": {},
   "source": [
    "#### 11. Write a Python program to find the occurrences of 3 most common words in a given text. And make it as a dictionaries"
   ]
  },
  {
   "cell_type": "code",
   "execution_count": 8,
   "id": "24ecac27",
   "metadata": {},
   "outputs": [
    {
     "name": "stdout",
     "output_type": "stream",
     "text": [
      "keerthi yamini bhagya keerthi keerthi yamini \n",
      "{'keerthi': 3}\n"
     ]
    }
   ],
   "source": [
    "name=input()\n",
    "check=name.split()\n",
    "dic={}\n",
    "for names in check:\n",
    "    if name.count(names)>=3:\n",
    "        dic.update({names:name.count(names)})\n",
    "print(dic)\n"
   ]
  },
  {
   "cell_type": "markdown",
   "id": "3b1aa9ff",
   "metadata": {},
   "source": [
    "#### 12. Write a Python program that accepts name of given subject and mark, and make subjects as keys in dictionaries and marks as values and print the final dictionary with subjects and marks"
   ]
  },
  {
   "cell_type": "code",
   "execution_count": 9,
   "id": "93e2fdf6",
   "metadata": {},
   "outputs": [
    {
     "name": "stdout",
     "output_type": "stream",
     "text": [
      "Please enter all the names and marks in their provided column. use [','] to seperate the names\n",
      "Subject Names : english,maths\n",
      "Marks : 45,70\n",
      "{'english': '45', 'maths': '70'}\n"
     ]
    }
   ],
   "source": [
    "print(\"Please enter all the names and marks in their provided column. use [','] to seperate the names\")\n",
    "progress_report={}\n",
    "while True:\n",
    "    nms=input(\"Subject Names : \")\n",
    "    mks=input(\"Marks : \")\n",
    "    names=nms.split(\",\")\n",
    "    marks=mks.split(\",\")\n",
    "    full=zip(names,marks)\n",
    "    \n",
    "    if len(names)==len(marks):\n",
    "        for i,j in full:\n",
    "            progress_report.update({i:j})\n",
    "        break\n",
    "print(progress_report)\n"
   ]
  },
  {
   "cell_type": "code",
   "execution_count": null,
   "id": "aab8cd0a",
   "metadata": {},
   "outputs": [],
   "source": []
  }
 ],
 "metadata": {
  "kernelspec": {
   "display_name": "Python 3 (ipykernel)",
   "language": "python",
   "name": "python3"
  },
  "language_info": {
   "codemirror_mode": {
    "name": "ipython",
    "version": 3
   },
   "file_extension": ".py",
   "mimetype": "text/x-python",
   "name": "python",
   "nbconvert_exporter": "python",
   "pygments_lexer": "ipython3",
   "version": "3.9.13"
  }
 },
 "nbformat": 4,
 "nbformat_minor": 5
}
